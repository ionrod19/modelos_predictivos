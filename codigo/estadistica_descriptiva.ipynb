{
 "cells": [
  {
   "cell_type": "code",
   "execution_count": null,
   "metadata": {},
   "outputs": [],
   "source": [
    "# ******************************************\n",
    "# Ionel Rodriguez 8-764-368\n",
    "# Modelos Predictivos\n",
    "# ******************************************\n",
    "\n",
    "import pandas\n",
    "import numpy as np\n",
    "import seaborn as sns\n",
    "import matplotlib.pyplot as plt\n",
    "from statsmodels.tsa.seasonal import seasonal_decompose\n",
    "from scipy import stats\n",
    "import warnings\n",
    "import sys\n",
    "\n",
    "sys.path.append('./.')\n",
    "import comun\n",
    "\n",
    "warnings.filterwarnings('ignore')\n",
    "plt.rcParams[\"font.family\"] = \"monospace\""
   ]
  },
  {
   "cell_type": "code",
   "execution_count": null,
   "metadata": {},
   "outputs": [],
   "source": [
    "# Se cargan los datos desde la base de datos. Se limpia y ajusta la base de datos para los análisis siguientes.\n",
    "# Se utilizan funciones helpers que se encuentran en el módulo \"comun\" ubicado en la misma carpeta donde se encuentra este notebook.\n",
    "\n",
    "df_main = comun.load_base_dataframe()\n",
    "df_numeric = df_main[['fecha', 'marca_id', 'modelo_id', 'cantidad', 'costo']]"
   ]
  },
  {
   "cell_type": "code",
   "execution_count": null,
   "metadata": {},
   "outputs": [],
   "source": [
    "# Se inspecciona las primeras 15 filas para ver como quedó la base de datos\n",
    "df_main.head(15)"
   ]
  },
  {
   "cell_type": "code",
   "execution_count": null,
   "metadata": {},
   "outputs": [],
   "source": [
    "# Mostrar los tipos de datos de cada columna\n",
    "df_main.info()"
   ]
  },
  {
   "cell_type": "code",
   "execution_count": null,
   "metadata": {},
   "outputs": [],
   "source": [
    "# Detalles estadísticos básicos de las columnas\n",
    "# Mostrar más info que df.describe()\n",
    "\n",
    "pandas.DataFrame([\n",
    "\t\tdf_numeric.count(),\n",
    "\t\tdf_numeric.sum(numeric_only=True),\n",
    "\t\tdf_numeric.mean(),\n",
    "\t\tdf_numeric.median(),\n",
    "\t\tdf_numeric.mode().iloc[0],\n",
    "\t\tdf_numeric.min(),\n",
    "\t\tdf_numeric.max(),\n",
    "\t\tdf_numeric.std(numeric_only=True),\n",
    "\t\tdf_numeric.sem(numeric_only=True),\n",
    "\t\tdf_numeric.var(numeric_only=True),\n",
    "\t\tdf_numeric.skew(numeric_only=True),\n",
    "\t\tdf_numeric.kurt(numeric_only=True),\n",
    "\t\tdf_numeric.quantile(0.25),\n",
    "\t\tdf_numeric.quantile(0.75),\n",
    "\t],\n",
    "\tindex=['count', 'sum', 'mean', 'median', 'mode', 'min', 'max', 'std dev.', 'std error', 'variance', 'skewness', 'kurtosis', 'quantile 25%', 'quantile 75%']\n",
    ")\n"
   ]
  },
  {
   "cell_type": "code",
   "execution_count": null,
   "metadata": {},
   "outputs": [],
   "source": [
    "# Se genera una matriz de correlación de las variables numéricas\n",
    "\n",
    "matrix = df_numeric.corr()\n",
    "\n",
    "plt.figure(figsize=(8,6))\n",
    "sns.heatmap(matrix, linewidth=0.5,cmap='RdYlGn', vmax=1, vmin=-1, annot=matrix.to_numpy(), annot_kws={'size':8})\n",
    "plt.title('Matriz de Correlación', fontsize=12)\n",
    "plt.show()\n"
   ]
  },
  {
   "cell_type": "code",
   "execution_count": null,
   "metadata": {},
   "outputs": [],
   "source": [
    "# Se generan gráficos que comparan la cantidad de los modelos vs los costos de los mismos modelos de auto.\n",
    "\n",
    "def build_grouped_bars(grouping_var, legend_align='upper left'):\n",
    "\tdf_sorted = df_main.filter([grouping_var, 'cantidad', 'costo'], axis=1).groupby(grouping_var, sort=False, as_index=False).sum().sort_values('cantidad', ascending=False)\n",
    "\tdf_sorted['costo'] /= 1000\n",
    "\n",
    "\n",
    "\tnames = df_sorted[grouping_var]\n",
    "\tx = np.arange(len(names))\n",
    "\tfig, ax = plt.subplots(layout='constrained')\n",
    "\tw = 0.4\n",
    "\tmult = 0\n",
    "\n",
    "\tfor var, items in df_sorted.items():\n",
    "\t\tif var != grouping_var:\n",
    "\t\t\trects = ax.bar(x +  w*mult, items, w, label=var)\n",
    "\t\t\tax.bar_label(rects, padding=1)\n",
    "\t\t\tmult += 1\n",
    "\t\n",
    "\tax.set_title('{} vs Cantidad vs Costo (en miles)'.format(grouping_var.capitalize()))\n",
    "\tax.set_xticks(x + w/2, names)\n",
    "\tax.legend(loc=legend_align, ncols=1)\n",
    "\n",
    "\tplt.show()\n",
    "\n",
    "build_grouped_bars('modelo')"
   ]
  },
  {
   "cell_type": "code",
   "execution_count": null,
   "metadata": {},
   "outputs": [],
   "source": [
    "# Similar a la gráfica anterior, solo que ahora se evalúan las marcas de autos.\n",
    "\n",
    "build_grouped_bars('marca', legend_align='upper right')"
   ]
  },
  {
   "cell_type": "code",
   "execution_count": null,
   "metadata": {},
   "outputs": [],
   "source": [
    "# Se generan boxplots de los modelos de auto para mostrar sus respectivos outliers.\n",
    "\n",
    "plt.figure().set_figwidth(8)\n",
    "sns.boxplot(y=df_main.modelo, x=df_main.cantidad)"
   ]
  },
  {
   "cell_type": "code",
   "execution_count": null,
   "metadata": {},
   "outputs": [],
   "source": [
    "# Se efectúa una limpieza de los datos para remover los outliers y se vuelve a generar los boxplots para comprobar.\n",
    "\n",
    "df_no_outlier = comun.remove_outliers(df_main, 'cantidad')\n",
    "\n",
    "plt.figure().set_figwidth(8)\n",
    "sns.boxplot(y=df_no_outlier.modelo, x=df_no_outlier.cantidad)\n",
    "#sns.swarmplot(x='cantidad', y='modelo', data=df_no_outlier, color='black', alpha=0.4)\n",
    "plt.show()\n"
   ]
  }
 ],
 "metadata": {
  "kernelspec": {
   "display_name": "modelos_predictivos",
   "language": "python",
   "name": "python3"
  },
  "language_info": {
   "codemirror_mode": {
    "name": "ipython",
    "version": 3
   },
   "file_extension": ".py",
   "mimetype": "text/x-python",
   "name": "python",
   "nbconvert_exporter": "python",
   "pygments_lexer": "ipython3",
   "version": "3.11.9"
  }
 },
 "nbformat": 4,
 "nbformat_minor": 2
}
